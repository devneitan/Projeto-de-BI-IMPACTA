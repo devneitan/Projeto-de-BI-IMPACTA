{
 "cells": [
  {
   "cell_type": "markdown",
   "id": "92bec626",
   "metadata": {},
   "source": [
    "# Configurações iniciais"
   ]
  },
  {
   "cell_type": "markdown",
   "id": "80e10acd",
   "metadata": {},
   "source": [
    "#### Importanto bibliotecas"
   ]
  },
  {
   "cell_type": "code",
   "execution_count": 1,
   "id": "cb02a4ee",
   "metadata": {},
   "outputs": [
    {
     "name": "stdout",
     "output_type": "stream",
     "text": [
      "<psycopg2.extensions.ConnectionInfo object at 0x000001B5D89D03B0>\n"
     ]
    }
   ],
   "source": [
    "import numpy as np\n",
    "import pandas as pd \n",
    "import matplotlib.pyplot as plt\n",
    "import psycopg2\n",
    "conexao = psycopg2.connect(database = \"PROJETO_BI\", host = \"localhost\", user = \"postgres\", password = \"123456\", port = \"5432\")\n",
    "print(conexao.info)"
   ]
  },
  {
   "cell_type": "markdown",
   "id": "51bd5b46",
   "metadata": {},
   "source": [
    "#### Carregando tabela Vendas"
   ]
  },
  {
   "cell_type": "code",
   "execution_count": 2,
   "id": "c099b0dc",
   "metadata": {},
   "outputs": [],
   "source": [
    "cursor = conexao.cursor()\n",
    "cursor.execute('select * from fato_vendas')\n",
    "dados = cursor.fetchall()\n",
    "df_vendas = pd.DataFrame(dados)\n",
    "\n",
    "nome_colunas = ['sk_vendas','id_ordem','vl_preco','vl_frete','desc_pagamento','sk_data','sk_avaliacao','sk_cliente','sk_prazos','sk_produtos','sk_vendedor']\n",
    "df_vendas.columns = nome_colunas\n"
   ]
  },
  {
   "cell_type": "markdown",
   "id": "9034b906",
   "metadata": {},
   "source": [
    "#### Carregando tabela Clientes"
   ]
  },
  {
   "cell_type": "code",
   "execution_count": 3,
   "id": "e91c95d8",
   "metadata": {},
   "outputs": [],
   "source": [
    "cursor = conexao.cursor()\n",
    "cursor.execute('select * from dim_cliente')\n",
    "dados = cursor.fetchall()\n",
    "df_clientes = pd.DataFrame(dados)\n",
    "\n",
    "nome_colunas = ['sk_cliente','id_cliente','nm_cidade_cliente','nm_estado_cliente']\n",
    "df_clientes.columns = nome_colunas"
   ]
  },
  {
   "cell_type": "markdown",
   "id": "07213dc8",
   "metadata": {},
   "source": [
    "#### Carregando tabela Tempo"
   ]
  },
  {
   "cell_type": "code",
   "execution_count": 4,
   "id": "e87fd351",
   "metadata": {},
   "outputs": [],
   "source": [
    "ursor = conexao.cursor()\n",
    "cursor.execute('select * from dim_tempo')\n",
    "dados = cursor.fetchall()\n",
    "df_tempo = pd.DataFrame(dados)\n",
    "\n",
    "nome_colunas = ['sk_data','data_compra','nr_ano','nr_mes','nr_dia_mes', 'nr_dia_semana', 'nr_trimestre', 'desc_semana', 'desc_mes', 'desc_feriado', 'flag_feriado']\n",
    "df_tempo.columns = nome_colunas"
   ]
  },
  {
   "cell_type": "markdown",
   "id": "48ff41df",
   "metadata": {},
   "source": [
    "# --------------------------------------------------------------------------------------------------------------"
   ]
  },
  {
   "cell_type": "markdown",
   "id": "93a57516",
   "metadata": {},
   "source": [
    "# Vendas por localidade"
   ]
  },
  {
   "cell_type": "code",
   "execution_count": 5,
   "id": "72272b30",
   "metadata": {},
   "outputs": [],
   "source": [
    "df_merge = df_vendas.merge(df_clientes, on='sk_cliente', how= 'left')\n",
    "\n",
    "df_merge = df_merge.merge(df_tempo, on='sk_data', how= 'left')\n",
    "\n",
    "\n",
    "df_merge['vl_preco'] = pd.to_numeric(df_merge['vl_preco'])\n",
    "df_merge['data_compra'] = pd.to_datetime(df_merge['data_compra'])\n"
   ]
  },
  {
   "cell_type": "markdown",
   "id": "83e06f13",
   "metadata": {},
   "source": [
    "### Data mínima e máxima"
   ]
  },
  {
   "cell_type": "code",
   "execution_count": 6,
   "id": "90d58815",
   "metadata": {},
   "outputs": [
    {
     "data": {
      "text/plain": [
       "Timestamp('2016-10-03 00:00:00-0300', tz='UTC-03:00')"
      ]
     },
     "execution_count": 6,
     "metadata": {},
     "output_type": "execute_result"
    }
   ],
   "source": [
    "df_merge['data_compra'].min()"
   ]
  },
  {
   "cell_type": "code",
   "execution_count": 7,
   "id": "75b02c04",
   "metadata": {},
   "outputs": [
    {
     "data": {
      "text/plain": [
       "Timestamp('2018-08-29 00:00:00-0300', tz='UTC-03:00')"
      ]
     },
     "execution_count": 7,
     "metadata": {},
     "output_type": "execute_result"
    }
   ],
   "source": [
    "df_merge['data_compra'].max()"
   ]
  },
  {
   "cell_type": "markdown",
   "id": "9d966035",
   "metadata": {},
   "source": [
    "###### O intervalo de tempo das vendas é do dia 03/10/2016 à 29/08/2018"
   ]
  },
  {
   "cell_type": "markdown",
   "id": "56f9713a",
   "metadata": {},
   "source": [
    "\n"
   ]
  },
  {
   "cell_type": "markdown",
   "id": "51c4c7c7",
   "metadata": {},
   "source": [
    "### Vendas por estado"
   ]
  },
  {
   "cell_type": "code",
   "execution_count": 8,
   "id": "9b6b5fae",
   "metadata": {},
   "outputs": [
    {
     "data": {
      "text/html": [
       "<div>\n",
       "<style scoped>\n",
       "    .dataframe tbody tr th:only-of-type {\n",
       "        vertical-align: middle;\n",
       "    }\n",
       "\n",
       "    .dataframe tbody tr th {\n",
       "        vertical-align: top;\n",
       "    }\n",
       "\n",
       "    .dataframe thead th {\n",
       "        text-align: right;\n",
       "    }\n",
       "</style>\n",
       "<table border=\"1\" class=\"dataframe\">\n",
       "  <thead>\n",
       "    <tr style=\"text-align: right;\">\n",
       "      <th></th>\n",
       "      <th>nm_estado_cliente</th>\n",
       "      <th>vl_preco</th>\n",
       "    </tr>\n",
       "  </thead>\n",
       "  <tbody>\n",
       "    <tr>\n",
       "      <th>0</th>\n",
       "      <td>SP</td>\n",
       "      <td>5307710.12</td>\n",
       "    </tr>\n",
       "    <tr>\n",
       "      <th>1</th>\n",
       "      <td>RJ</td>\n",
       "      <td>1845341.23</td>\n",
       "    </tr>\n",
       "    <tr>\n",
       "      <th>2</th>\n",
       "      <td>MG</td>\n",
       "      <td>1606284.43</td>\n",
       "    </tr>\n",
       "    <tr>\n",
       "      <th>3</th>\n",
       "      <td>RS</td>\n",
       "      <td>766014.18</td>\n",
       "    </tr>\n",
       "    <tr>\n",
       "      <th>4</th>\n",
       "      <td>PR</td>\n",
       "      <td>688718.43</td>\n",
       "    </tr>\n",
       "    <tr>\n",
       "      <th>5</th>\n",
       "      <td>SC</td>\n",
       "      <td>523714.24</td>\n",
       "    </tr>\n",
       "    <tr>\n",
       "      <th>6</th>\n",
       "      <td>BA</td>\n",
       "      <td>520942.37</td>\n",
       "    </tr>\n",
       "    <tr>\n",
       "      <th>7</th>\n",
       "      <td>DF</td>\n",
       "      <td>306949.63</td>\n",
       "    </tr>\n",
       "    <tr>\n",
       "      <th>8</th>\n",
       "      <td>GO</td>\n",
       "      <td>297983.08</td>\n",
       "    </tr>\n",
       "    <tr>\n",
       "      <th>9</th>\n",
       "      <td>ES</td>\n",
       "      <td>277504.07</td>\n",
       "    </tr>\n",
       "    <tr>\n",
       "      <th>10</th>\n",
       "      <td>PE</td>\n",
       "      <td>260280.82</td>\n",
       "    </tr>\n",
       "    <tr>\n",
       "      <th>11</th>\n",
       "      <td>CE</td>\n",
       "      <td>231920.91</td>\n",
       "    </tr>\n",
       "    <tr>\n",
       "      <th>12</th>\n",
       "      <td>PA</td>\n",
       "      <td>179930.66</td>\n",
       "    </tr>\n",
       "    <tr>\n",
       "      <th>13</th>\n",
       "      <td>MT</td>\n",
       "      <td>155568.73</td>\n",
       "    </tr>\n",
       "    <tr>\n",
       "      <th>14</th>\n",
       "      <td>PB</td>\n",
       "      <td>121045.08</td>\n",
       "    </tr>\n",
       "    <tr>\n",
       "      <th>15</th>\n",
       "      <td>MA</td>\n",
       "      <td>119973.96</td>\n",
       "    </tr>\n",
       "    <tr>\n",
       "      <th>16</th>\n",
       "      <td>MS</td>\n",
       "      <td>118440.74</td>\n",
       "    </tr>\n",
       "    <tr>\n",
       "      <th>17</th>\n",
       "      <td>RN</td>\n",
       "      <td>93625.23</td>\n",
       "    </tr>\n",
       "    <tr>\n",
       "      <th>18</th>\n",
       "      <td>PI</td>\n",
       "      <td>89889.63</td>\n",
       "    </tr>\n",
       "    <tr>\n",
       "      <th>19</th>\n",
       "      <td>AL</td>\n",
       "      <td>81651.27</td>\n",
       "    </tr>\n",
       "    <tr>\n",
       "      <th>20</th>\n",
       "      <td>SE</td>\n",
       "      <td>58572.97</td>\n",
       "    </tr>\n",
       "    <tr>\n",
       "      <th>21</th>\n",
       "      <td>TO</td>\n",
       "      <td>55032.68</td>\n",
       "    </tr>\n",
       "    <tr>\n",
       "      <th>22</th>\n",
       "      <td>RO</td>\n",
       "      <td>46506.15</td>\n",
       "    </tr>\n",
       "    <tr>\n",
       "      <th>23</th>\n",
       "      <td>AM</td>\n",
       "      <td>22608.36</td>\n",
       "    </tr>\n",
       "    <tr>\n",
       "      <th>24</th>\n",
       "      <td>AC</td>\n",
       "      <td>17007.46</td>\n",
       "    </tr>\n",
       "    <tr>\n",
       "      <th>25</th>\n",
       "      <td>AP</td>\n",
       "      <td>13554.81</td>\n",
       "    </tr>\n",
       "    <tr>\n",
       "      <th>26</th>\n",
       "      <td>RR</td>\n",
       "      <td>7057.47</td>\n",
       "    </tr>\n",
       "  </tbody>\n",
       "</table>\n",
       "</div>"
      ],
      "text/plain": [
       "   nm_estado_cliente    vl_preco\n",
       "0                 SP  5307710.12\n",
       "1                 RJ  1845341.23\n",
       "2                 MG  1606284.43\n",
       "3                 RS   766014.18\n",
       "4                 PR   688718.43\n",
       "5                 SC   523714.24\n",
       "6                 BA   520942.37\n",
       "7                 DF   306949.63\n",
       "8                 GO   297983.08\n",
       "9                 ES   277504.07\n",
       "10                PE   260280.82\n",
       "11                CE   231920.91\n",
       "12                PA   179930.66\n",
       "13                MT   155568.73\n",
       "14                PB   121045.08\n",
       "15                MA   119973.96\n",
       "16                MS   118440.74\n",
       "17                RN    93625.23\n",
       "18                PI    89889.63\n",
       "19                AL    81651.27\n",
       "20                SE    58572.97\n",
       "21                TO    55032.68\n",
       "22                RO    46506.15\n",
       "23                AM    22608.36\n",
       "24                AC    17007.46\n",
       "25                AP    13554.81\n",
       "26                RR     7057.47"
      ]
     },
     "execution_count": 8,
     "metadata": {},
     "output_type": "execute_result"
    }
   ],
   "source": [
    "vendas_estado = df_merge[['nm_estado_cliente','vl_preco']].groupby('nm_estado_cliente').sum().sort_values(by='vl_preco', ascending=False).reset_index()\n",
    "vendas_estado"
   ]
  },
  {
   "cell_type": "code",
   "execution_count": 11,
   "id": "daf39ca4",
   "metadata": {},
   "outputs": [
    {
     "data": {
      "image/png": "[encoded data removed]",
      "text/plain": [
       "<Figure size 1080x576 with 1 Axes>"
      ]
     },
     "metadata": {
      "needs_background": "light"
     },
     "output_type": "display_data"
    }
   ],
   "source": [
    "fig, ax = plt.subplots(figsize=(15,8))\n",
    "ax.bar(vendas_estado['nm_estado_cliente'], vendas_estado['vl_preco'])\n",
    "plt.title('Vendas por estado', size = 15)\n",
    "plt.xlabel('Estados', size = 15)\n",
    "plt.ylabel('Bilhões', size = 15)\n",
    "\n",
    "plt.show()"
   ]
  },
  {
   "cell_type": "markdown",
   "id": "6402788e",
   "metadata": {},
   "source": [
    "#### Podemos ver que os 5 estados com mais vendas são: SP, RJ, MG, RS e PR. Com destaque para o estado de SP que mais que o dobro de vendas comparado a qualquer estado."
   ]
  },
  {
   "cell_type": "markdown",
   "id": "2288c967",
   "metadata": {},
   "source": [
    "# --------------------------------------------------------------------------------------------------------------"
   ]
  },
  {
   "cell_type": "markdown",
   "id": "d2ced047",
   "metadata": {},
   "source": [
    "# Vendas por ano"
   ]
  },
  {
   "cell_type": "markdown",
   "id": "956d9c5f",
   "metadata": {},
   "source": [
    "#### O intervalor de tempo dos dados não possuei 2 anos completos, portanto vamos dividir em 2 intervalos: 03/10/2016 à 03/10/2017 e 04/10/2017 à 29/08/2018."
   ]
  },
  {
   "cell_type": "code",
   "execution_count": 13,
   "id": "669f9570",
   "metadata": {},
   "outputs": [
    {
     "data": {
      "image/png": "[encoded data removed]",
      "text/plain": [
       "<Figure size 864x576 with 1 Axes>"
      ]
     },
     "metadata": {
      "needs_background": "light"
     },
     "output_type": "display_data"
    }
   ],
   "source": [
    "ano_2016_2017 = df_merge.loc[df_merge['data_compra'] <= pd.to_datetime('2017-10-03 00:00:00-03:00')]\n",
    "ano_2017_2018 = df_merge.loc[df_merge['data_compra'] >= pd.to_datetime('2017-10-04 00:00:00-03:00')]\n",
    "anos = ['2016/2017', '2017/2018']\n",
    "\n",
    "vendas = [ano_2016_2017['vl_preco'].sum(), ano_2017_2018['vl_preco'].sum()]\n",
    "\n",
    "fig, ax = plt.subplots(figsize=(12,8))\n",
    "ax.bar(anos, vendas)\n",
    "plt.title('Vendas por período', size = 15)\n",
    "plt.rcParams['ytick.labelsize'] = 15\n",
    "\n",
    "plt.ylabel('Bilhões', size = 15)\n",
    "\n",
    "plt.show()"
   ]
  },
  {
   "cell_type": "markdown",
   "id": "f406b8be",
   "metadata": {},
   "source": [
    "#### Podemos ver que em cerca de um ano as vendas pelo marketplace dobraram passando de 0,4 Bi para aproximadadmente 1 Bi de reais.\n"
   ]
  },
  {
   "cell_type": "code",
   "execution_count": 22,
   "id": "c08c48e6",
   "metadata": {},
   "outputs": [
    {
     "data": {
      "image/png": "[encoded data removed]",
      "text/plain": [
       "<Figure size 1080x576 with 1 Axes>"
      ]
     },
     "metadata": {
      "needs_background": "light"
     },
     "output_type": "display_data"
    }
   ],
   "source": [
    "periodo1 = ano_2016_2017[['nm_estado_cliente','vl_preco']].groupby('nm_estado_cliente').sum().sort_values(by='vl_preco', ascending=False).reset_index()\n",
    "periodo2 = ano_2017_2018[['nm_estado_cliente','vl_preco']].groupby('nm_estado_cliente').sum().sort_values(by='vl_preco', ascending=False).reset_index()\n",
    "\n",
    "p1_estados= periodo1['nm_estado_cliente']\n",
    "p2_estados= periodo2['nm_estado_cliente']\n",
    "p1_vendas = periodo1['vl_preco']\n",
    "p2_vendas = periodo2['vl_preco']\n",
    "\n",
    "fig, ax = plt.subplots(figsize=(15,8))\n",
    "w = 0.5\n",
    "n = periodo1['nm_estado_cliente'].count()\n",
    "x = np.arange(n)\n",
    "\n",
    "bar1=plt.bar(x-0.2, p1_vendas, w,  label='2016/2017')\n",
    "bar2=plt.bar(x+0.2, p2_vendas, w, label='2017/2018')\n",
    "plt.xticks(x,periodo1['nm_estado_cliente'])\n",
    "plt.title('Vendas por estado', size = 18)\n",
    "\n",
    "plt.ylabel('Bilhões', size = 15)\n",
    "plt.legend(fontsize=15)\n",
    "plt.show()"
   ]
  },
  {
   "cell_type": "markdown",
   "id": "2104a200",
   "metadata": {},
   "source": [
    "#### Como podemos ver, as vendas mais que dobraram em todos os estados neste último período"
   ]
  },
  {
   "cell_type": "markdown",
   "id": "2734b686",
   "metadata": {},
   "source": [
    "# -------------------------------------------------------------------------------------------------------------"
   ]
  },
  {
   "cell_type": "markdown",
   "id": "95bc556b",
   "metadata": {},
   "source": [
    "# Vendas por mês"
   ]
  },
  {
   "cell_type": "markdown",
   "id": "f79139f6",
   "metadata": {},
   "source": [
    "#### Vamos analisar as vendas mês a mês do ultimo ano a contar pela data do ultimo registro"
   ]
  },
  {
   "cell_type": "code",
   "execution_count": 14,
   "id": "0ec01e47",
   "metadata": {},
   "outputs": [],
   "source": [
    "ultimo_ano = df_merge.loc[df_merge['data_compra'] >= pd.to_datetime('2017-08-30 00:00:00-03:00')]"
   ]
  },
  {
   "cell_type": "code",
   "execution_count": 15,
   "id": "b8f164a6",
   "metadata": {},
   "outputs": [
    {
     "data": {
      "text/html": [
       "<div>\n",
       "<style scoped>\n",
       "    .dataframe tbody tr th:only-of-type {\n",
       "        vertical-align: middle;\n",
       "    }\n",
       "\n",
       "    .dataframe tbody tr th {\n",
       "        vertical-align: top;\n",
       "    }\n",
       "\n",
       "    .dataframe thead th {\n",
       "        text-align: right;\n",
       "    }\n",
       "</style>\n",
       "<table border=\"1\" class=\"dataframe\">\n",
       "  <thead>\n",
       "    <tr style=\"text-align: right;\">\n",
       "      <th></th>\n",
       "      <th>desc_mes</th>\n",
       "      <th>vl_preco</th>\n",
       "    </tr>\n",
       "  </thead>\n",
       "  <tbody>\n",
       "    <tr>\n",
       "      <th>0</th>\n",
       "      <td>NOVEMBRO</td>\n",
       "      <td>1022688.86</td>\n",
       "    </tr>\n",
       "    <tr>\n",
       "      <th>1</th>\n",
       "      <td>MAIO</td>\n",
       "      <td>1012647.65</td>\n",
       "    </tr>\n",
       "    <tr>\n",
       "      <th>2</th>\n",
       "      <td>ABRIL</td>\n",
       "      <td>1006279.64</td>\n",
       "    </tr>\n",
       "    <tr>\n",
       "      <th>3</th>\n",
       "      <td>MARCO</td>\n",
       "      <td>994744.41</td>\n",
       "    </tr>\n",
       "    <tr>\n",
       "      <th>4</th>\n",
       "      <td>JANEIRO</td>\n",
       "      <td>961101.67</td>\n",
       "    </tr>\n",
       "    <tr>\n",
       "      <th>5</th>\n",
       "      <td>AGOSTO</td>\n",
       "      <td>918983.10</td>\n",
       "    </tr>\n",
       "    <tr>\n",
       "      <th>6</th>\n",
       "      <td>JUNHO</td>\n",
       "      <td>900139.68</td>\n",
       "    </tr>\n",
       "    <tr>\n",
       "      <th>7</th>\n",
       "      <td>JULHO</td>\n",
       "      <td>897484.91</td>\n",
       "    </tr>\n",
       "    <tr>\n",
       "      <th>8</th>\n",
       "      <td>FEVEREIRO</td>\n",
       "      <td>860867.82</td>\n",
       "    </tr>\n",
       "    <tr>\n",
       "      <th>9</th>\n",
       "      <td>DEZEMBRO</td>\n",
       "      <td>752372.57</td>\n",
       "    </tr>\n",
       "    <tr>\n",
       "      <th>10</th>\n",
       "      <td>OUTUBRO</td>\n",
       "      <td>677378.42</td>\n",
       "    </tr>\n",
       "    <tr>\n",
       "      <th>11</th>\n",
       "      <td>SETEMBRO</td>\n",
       "      <td>644282.48</td>\n",
       "    </tr>\n",
       "  </tbody>\n",
       "</table>\n",
       "</div>"
      ],
      "text/plain": [
       "     desc_mes    vl_preco\n",
       "0    NOVEMBRO  1022688.86\n",
       "1        MAIO  1012647.65\n",
       "2       ABRIL  1006279.64\n",
       "3       MARCO   994744.41\n",
       "4     JANEIRO   961101.67\n",
       "5      AGOSTO   918983.10\n",
       "6       JUNHO   900139.68\n",
       "7       JULHO   897484.91\n",
       "8   FEVEREIRO   860867.82\n",
       "9    DEZEMBRO   752372.57\n",
       "10    OUTUBRO   677378.42\n",
       "11   SETEMBRO   644282.48"
      ]
     },
     "execution_count": 15,
     "metadata": {},
     "output_type": "execute_result"
    }
   ],
   "source": [
    "mensal = ultimo_ano[['desc_mes','vl_preco']].groupby('desc_mes').sum().sort_values(by='vl_preco', ascending=False).reset_index()\n",
    "mensal"
   ]
  },
  {
   "cell_type": "code",
   "execution_count": 16,
   "id": "a2cfe4b3",
   "metadata": {},
   "outputs": [
    {
     "data": {
      "image/png": "[encoded data removed]",
      "text/plain": [
       "<Figure size 1080x576 with 1 Axes>"
      ]
     },
     "metadata": {
      "needs_background": "light"
     },
     "output_type": "display_data"
    }
   ],
   "source": [
    "fig, ax = plt.subplots(figsize=(15,8))\n",
    "ax.bar(mensal['desc_mes'], mensal['vl_preco'])\n",
    "plt.title('Vendas por mês', size = 15)\n",
    "\n",
    "plt.ylabel('Bilhões', size = 15)\n",
    "plt.xticks(fontsize=10)\n",
    "plt.show()"
   ]
  },
  {
   "cell_type": "markdown",
   "id": "fb1ec898",
   "metadata": {},
   "source": [
    "#### Temos Novembro como o mês de maior faturamento no ultimo ano, provavelmente por ser o mês que acontece a Blackfriday."
   ]
  },
  {
   "cell_type": "markdown",
   "id": "e799f3a0",
   "metadata": {},
   "source": [
    "# --------------------------------------------------------------------------------------------------------------"
   ]
  },
  {
   "cell_type": "markdown",
   "id": "6053bd12",
   "metadata": {},
   "source": [
    "# Ticket médio por estado"
   ]
  },
  {
   "cell_type": "code",
   "execution_count": 17,
   "id": "bd0e0c08",
   "metadata": {},
   "outputs": [
    {
     "data": {
      "text/html": [
       "<div>\n",
       "<style scoped>\n",
       "    .dataframe tbody tr th:only-of-type {\n",
       "        vertical-align: middle;\n",
       "    }\n",
       "\n",
       "    .dataframe tbody tr th {\n",
       "        vertical-align: top;\n",
       "    }\n",
       "\n",
       "    .dataframe thead th {\n",
       "        text-align: right;\n",
       "    }\n",
       "</style>\n",
       "<table border=\"1\" class=\"dataframe\">\n",
       "  <thead>\n",
       "    <tr style=\"text-align: right;\">\n",
       "      <th></th>\n",
       "      <th>nm_estado_cliente</th>\n",
       "      <th>vl_preco</th>\n",
       "    </tr>\n",
       "  </thead>\n",
       "  <tbody>\n",
       "    <tr>\n",
       "      <th>0</th>\n",
       "      <td>PB</td>\n",
       "      <td>194.293868</td>\n",
       "    </tr>\n",
       "    <tr>\n",
       "      <th>1</th>\n",
       "      <td>AL</td>\n",
       "      <td>185.150272</td>\n",
       "    </tr>\n",
       "    <tr>\n",
       "      <th>2</th>\n",
       "      <td>AC</td>\n",
       "      <td>180.930426</td>\n",
       "    </tr>\n",
       "    <tr>\n",
       "      <th>3</th>\n",
       "      <td>RN</td>\n",
       "      <td>166.889893</td>\n",
       "    </tr>\n",
       "    <tr>\n",
       "      <th>4</th>\n",
       "      <td>RO</td>\n",
       "      <td>165.502313</td>\n",
       "    </tr>\n",
       "    <tr>\n",
       "      <th>5</th>\n",
       "      <td>PA</td>\n",
       "      <td>165.074000</td>\n",
       "    </tr>\n",
       "    <tr>\n",
       "      <th>6</th>\n",
       "      <td>TO</td>\n",
       "      <td>164.768503</td>\n",
       "    </tr>\n",
       "    <tr>\n",
       "      <th>7</th>\n",
       "      <td>AP</td>\n",
       "      <td>163.310964</td>\n",
       "    </tr>\n",
       "    <tr>\n",
       "      <th>8</th>\n",
       "      <td>PI</td>\n",
       "      <td>162.549060</td>\n",
       "    </tr>\n",
       "    <tr>\n",
       "      <th>9</th>\n",
       "      <td>CE</td>\n",
       "      <td>154.717085</td>\n",
       "    </tr>\n",
       "    <tr>\n",
       "      <th>10</th>\n",
       "      <td>RR</td>\n",
       "      <td>153.423261</td>\n",
       "    </tr>\n",
       "    <tr>\n",
       "      <th>11</th>\n",
       "      <td>SE</td>\n",
       "      <td>151.743446</td>\n",
       "    </tr>\n",
       "    <tr>\n",
       "      <th>12</th>\n",
       "      <td>MA</td>\n",
       "      <td>146.667433</td>\n",
       "    </tr>\n",
       "    <tr>\n",
       "      <th>13</th>\n",
       "      <td>MT</td>\n",
       "      <td>144.178619</td>\n",
       "    </tr>\n",
       "    <tr>\n",
       "      <th>14</th>\n",
       "      <td>PE</td>\n",
       "      <td>142.385569</td>\n",
       "    </tr>\n",
       "    <tr>\n",
       "      <th>15</th>\n",
       "      <td>MS</td>\n",
       "      <td>141.845198</td>\n",
       "    </tr>\n",
       "    <tr>\n",
       "      <th>16</th>\n",
       "      <td>AM</td>\n",
       "      <td>133.777278</td>\n",
       "    </tr>\n",
       "    <tr>\n",
       "      <th>17</th>\n",
       "      <td>BA</td>\n",
       "      <td>132.555310</td>\n",
       "    </tr>\n",
       "    <tr>\n",
       "      <th>18</th>\n",
       "      <td>DF</td>\n",
       "      <td>126.786299</td>\n",
       "    </tr>\n",
       "    <tr>\n",
       "      <th>19</th>\n",
       "      <td>GO</td>\n",
       "      <td>125.625245</td>\n",
       "    </tr>\n",
       "    <tr>\n",
       "      <th>20</th>\n",
       "      <td>RJ</td>\n",
       "      <td>124.073235</td>\n",
       "    </tr>\n",
       "    <tr>\n",
       "      <th>21</th>\n",
       "      <td>SC</td>\n",
       "      <td>124.044112</td>\n",
       "    </tr>\n",
       "    <tr>\n",
       "      <th>22</th>\n",
       "      <td>ES</td>\n",
       "      <td>120.287850</td>\n",
       "    </tr>\n",
       "    <tr>\n",
       "      <th>23</th>\n",
       "      <td>RS</td>\n",
       "      <td>120.008488</td>\n",
       "    </tr>\n",
       "    <tr>\n",
       "      <th>24</th>\n",
       "      <td>MG</td>\n",
       "      <td>119.720089</td>\n",
       "    </tr>\n",
       "    <tr>\n",
       "      <th>25</th>\n",
       "      <td>PR</td>\n",
       "      <td>117.368512</td>\n",
       "    </tr>\n",
       "    <tr>\n",
       "      <th>26</th>\n",
       "      <td>SP</td>\n",
       "      <td>109.387703</td>\n",
       "    </tr>\n",
       "  </tbody>\n",
       "</table>\n",
       "</div>"
      ],
      "text/plain": [
       "   nm_estado_cliente    vl_preco\n",
       "0                 PB  194.293868\n",
       "1                 AL  185.150272\n",
       "2                 AC  180.930426\n",
       "3                 RN  166.889893\n",
       "4                 RO  165.502313\n",
       "5                 PA  165.074000\n",
       "6                 TO  164.768503\n",
       "7                 AP  163.310964\n",
       "8                 PI  162.549060\n",
       "9                 CE  154.717085\n",
       "10                RR  153.423261\n",
       "11                SE  151.743446\n",
       "12                MA  146.667433\n",
       "13                MT  144.178619\n",
       "14                PE  142.385569\n",
       "15                MS  141.845198\n",
       "16                AM  133.777278\n",
       "17                BA  132.555310\n",
       "18                DF  126.786299\n",
       "19                GO  125.625245\n",
       "20                RJ  124.073235\n",
       "21                SC  124.044112\n",
       "22                ES  120.287850\n",
       "23                RS  120.008488\n",
       "24                MG  119.720089\n",
       "25                PR  117.368512\n",
       "26                SP  109.387703"
      ]
     },
     "execution_count": 17,
     "metadata": {},
     "output_type": "execute_result"
    }
   ],
   "source": [
    "media_estado = df_merge[['nm_estado_cliente','vl_preco']].groupby('nm_estado_cliente').mean().sort_values(by='vl_preco', ascending=False).reset_index()\n",
    "media_estado"
   ]
  },
  {
   "cell_type": "code",
   "execution_count": 18,
   "id": "f54816d3",
   "metadata": {},
   "outputs": [
    {
     "data": {
      "image/png": "[encoded data removed]",
      "text/plain": [
       "<Figure size 1080x576 with 1 Axes>"
      ]
     },
     "metadata": {
      "needs_background": "light"
     },
     "output_type": "display_data"
    }
   ],
   "source": [
    "fig, ax = plt.subplots(figsize=(15,8))\n",
    "ax.bar(media_estado['nm_estado_cliente'], media_estado['vl_preco'])\n",
    "plt.title('Ticket Médio por Estado', size = 15)\n",
    "\n",
    "plt.ylabel('Reais', size = 15)\n",
    "plt.xticks(fontsize=15)\n",
    "plt.show()"
   ]
  },
  {
   "cell_type": "markdown",
   "id": "e5fea746",
   "metadata": {},
   "source": [
    "#### A Paraiba é o estado com o maior ticket médio, e um fato curioso é que São Paulo é o estado de maior faturamento e o de menor ticket médio."
   ]
  },
  {
   "cell_type": "markdown",
   "id": "a13e3eeb",
   "metadata": {},
   "source": [
    "# Forma de pagamento "
   ]
  },
  {
   "cell_type": "code",
   "execution_count": 20,
   "id": "c5a3289c",
   "metadata": {},
   "outputs": [],
   "source": [
    "pagamento= df_merge['desc_pagamento'].value_counts().reset_index()\n"
   ]
  },
  {
   "cell_type": "code",
   "execution_count": 21,
   "id": "53575870",
   "metadata": {},
   "outputs": [
    {
     "data": {
      "image/png": "[encoded data removed]",
      "text/plain": [
       "<Figure size 1080x576 with 1 Axes>"
      ]
     },
     "metadata": {},
     "output_type": "display_data"
    }
   ],
   "source": [
    "# Dados para plotar\n",
    "labels = pagamento['desc_pagamento']\n",
    "tamanhos = pagamento['count']\n",
    "plt.figure(figsize=(15, 8))\n",
    "# definições\n",
    "colors = ['lightcoral','gold', 'yellowgreen',  'lightskyblue']\n",
    "\n",
    "# explodir 1ª fatia\n",
    "explode = (0.1, 0, 0, 0)  \n",
    "\n",
    "# Plot\n",
    "plt.pie(tamanhos, explode=explode, labels=labels, colors=colors, autopct='%1.1f%%', shadow=True, startangle=140, textprops={'size': 'x-large'})\n",
    "\n",
    "\n",
    "plt.legend(labels, loc=\"upper right\", fontsize = 15)\n",
    "plt.title('Formas de Pagamento', size = 25)\n",
    "plt.axis('equal')\n",
    "plt.show()"
   ]
  },
  {
   "cell_type": "code",
   "execution_count": null,
   "id": "1882d41f",
   "metadata": {},
   "outputs": [],
   "source": []
  }
 ],
 "metadata": {
  "kernelspec": {
   "display_name": "Python 3",
   "language": "python",
   "name": "python3"
  },
  "language_info": {
   "codemirror_mode": {
    "name": "ipython",
    "version": 3
   },
   "file_extension": ".py",
   "mimetype": "text/x-python",
   "name": "python",
   "nbconvert_exporter": "python",
   "pygments_lexer": "ipython3",
   "version": "3.8.8"
  }
 },
 "nbformat": 4,
 "nbformat_minor": 5
}
